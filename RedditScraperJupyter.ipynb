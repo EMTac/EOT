{
 "cells": [
  {
   "cell_type": "code",
   "execution_count": 3,
   "metadata": {},
   "outputs": [],
   "source": [
    "import praw"
   ]
  },
  {
   "cell_type": "code",
   "execution_count": 4,
   "metadata": {},
   "outputs": [],
   "source": [
    "reddit = praw.Reddit(client_id='H491sqc727YDfEvxGhscRw', client_secret='Wh-8m1r4Prg8w4zTpH0lUSHOFFtB6g', user_agent='Geolocating Landscapes')"
   ]
  },
  {
   "cell_type": "code",
   "execution_count": 6,
   "metadata": {},
   "outputs": [],
   "source": [
    "import datetime\n",
    "\n",
    "subreddit = reddit.subreddit('EarthPorn')\n",
    "\n",
    "# Set the date range for the month of January 2023\n",
    "start_date = datetime.datetime(2023, 1, 1)\n",
    "end_date = datetime.datetime(2023, 2, 1)\n",
    "\n",
    "# Query the subreddit for top posts within the date range\n",
    "top_posts = subreddit.search('timestamp:{}..{}'.format(int(start_date.timestamp()), int(end_date.timestamp())),\n",
    "                             sort='top', limit=5)\n",
    "\n",
    "# Print the titles of the top posts\n",
    "for post in top_posts:\n",
    "    print(post.title)"
   ]
  }
 ],
 "metadata": {
  "kernelspec": {
   "display_name": "Python 3",
   "language": "python",
   "name": "python3"
  },
  "language_info": {
   "codemirror_mode": {
    "name": "ipython",
    "version": 3
   },
   "file_extension": ".py",
   "mimetype": "text/x-python",
   "name": "python",
   "nbconvert_exporter": "python",
   "pygments_lexer": "ipython3",
   "version": "3.10.6"
  },
  "orig_nbformat": 4
 },
 "nbformat": 4,
 "nbformat_minor": 2
}
